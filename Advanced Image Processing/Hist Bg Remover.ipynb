{
 "cells": [
  {
   "cell_type": "raw",
   "id": "35a496e1-7add-4a3f-a86f-7afc22c71ef8",
   "metadata": {},
   "source": [
    "1) Grab an image.\n",
    "2) Grab a portion of bg from darker side.\n",
    "3) Resize if way big.\n",
    "4) Read both images.\n",
    "5) Convert images to HSV for both.\n",
    "5) Hist calculation of bg image.\n",
    "6) Mask a mask with Hist of bg on original image.\n",
    "7) getstructreelement morphology ellipse to remove noise or unwanted artifacts (such as small disconnected pixels, holes, or gaps in the region of interest) to modify mask.\n",
    "8) Thresholding is commonly used to filter out certain parts of an image based on pixel intensity values.\n",
    "9) Apply same mask 3 times to get color image BGR."
   ]
  },
  {
   "cell_type": "code",
   "execution_count": 1,
   "id": "c0da5419-3213-4350-a84c-7c3639c6b4e8",
   "metadata": {},
   "outputs": [],
   "source": [
    "import cv2\n",
    "import numpy as np\n",
    "\n",
    "#orignial image\n",
    "img = cv2.imread('../images/naruto.jpg')\n",
    "\n",
    "# resized image\n",
    "img1 = cv2.resize(img,(400,500))\n",
    "\n",
    "#HSV color original resized image\n",
    "hsv1 = cv2.cvtColor(img1, cv2.COLOR_BGR2HSV)\n",
    "\n",
    "#bg image\n",
    "img2 = cv2.imread('../images/naruto_bg.jpg')\n",
    "\n",
    "#HSV color bg image\n",
    "hsv2 = cv2.cvtColor(img2, cv2.COLOR_BGR2HSV)\n",
    "\n",
    "#histogram of HSV color bg image\n",
    "hist = cv2.calcHist([hsv2],channels = [0,1], mask = None, histSize=[190,256],ranges=[0,190,0,256])\n",
    "\n",
    "#It involves mapping the probability distribution of pixel intensities \n",
    "#(from a reference image, such as an object or background) to another image to identify regions that match the reference.\n",
    "mask = cv2.calcBackProject([hsv1],channels = [0,1],hist=hist,ranges=[0,190,0,256], scale=1)\n",
    "\n",
    "#a small matrix (kernel) that is used in morphological operations like erosion, dilation, opening, and closing. \n",
    "#These operations are applied to binary images and are crucial for shape analysis, noise removal, and image segmentation tasks.\n",
    "ellipse = cv2.getStructuringElement(shape = cv2.MORPH_ELLIPSE ,ksize = (12,12))\n",
    "\n",
    "# image processing for noise removal, smoothing, or shape modification.\n",
    "# Mask , -1 = same size of o/p img as i/p, shape\n",
    "mask = cv2.filter2D(mask,-1,ellipse)\n",
    "\n",
    "#The function iterates over every pixel in the mask image.\n",
    "#If the pixel value is greater than 200, it is set to 255 (white).\n",
    "#If the pixel value is less than or equal to 200, it is set to 0 (black).\n",
    "#The resulting image, thr, will be a binary image where areas above the threshold are white (255) and \n",
    "#areas below or equal to the threshold are black (0).\n",
    "_,thr = cv2.threshold(mask,200,255,cv2.THRESH_BINARY)\n",
    "\n",
    "# convert a single-channel image (grayscale), such as a binary mask, into a three-channel image (color), specifically in the BGR format.\n",
    "mask = cv2.merge((mask,mask,mask))\n",
    "\n",
    "#combining images or manipulating pixel values based on the mask.\n",
    "final_img = cv2.bitwise_or(img1,mask)\n",
    "\n",
    "cv2.imshow('Backprojection Mask', mask)\n",
    "cv2.imshow('FINAL_IMG',final_img)\n",
    "cv2.imshow('NARUTO',img1)\n",
    "cv2.waitKey(0)\n",
    "cv2.destroyAllWindows()"
   ]
  }
 ],
 "metadata": {
  "kernelspec": {
   "display_name": "Python 3 (ipykernel)",
   "language": "python",
   "name": "python3"
  },
  "language_info": {
   "codemirror_mode": {
    "name": "ipython",
    "version": 3
   },
   "file_extension": ".py",
   "mimetype": "text/x-python",
   "name": "python",
   "nbconvert_exporter": "python",
   "pygments_lexer": "ipython3",
   "version": "3.9.21"
  },
  "widgets": {
   "application/vnd.jupyter.widget-state+json": {
    "state": {},
    "version_major": 2,
    "version_minor": 0
   }
  }
 },
 "nbformat": 4,
 "nbformat_minor": 5
}
