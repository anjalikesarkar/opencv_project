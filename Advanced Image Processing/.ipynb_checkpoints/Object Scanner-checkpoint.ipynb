{
 "cells": [
  {
   "cell_type": "markdown",
   "id": "d9687131-239d-49b5-8ce1-5f3196ac47f9",
   "metadata": {},
   "source": [
    "# OBJECT SCANNER"
   ]
  },
  {
   "cell_type": "raw",
   "id": "ee89adae-8260-47ea-a473-9c58f68ffa28",
   "metadata": {},
   "source": [
    "# To make a tilted image right and remove bg like scanner \n",
    "#1)Read Image\n",
    "#************Create a mask******************\n",
    "#2)Get image coordinates using paint here, ([24,59],[160,3], [74,214],[215,154])\n",
    "#3)Oringinal image w=500,h=500\n",
    "#4)give SOURCE image to make new image in array with extracted coordinates\n",
    "#5)give DESTINATION to save new image as same size as orginal image\n",
    "#6) Create a mask with getperspective\n",
    "#**********************************************\n",
    "#7) apply mask on orinigal image "
   ]
  },
  {
   "cell_type": "code",
   "execution_count": 2,
   "id": "815b6f42-3e5b-4b13-8901-f7b05a6b613a",
   "metadata": {},
   "outputs": [],
   "source": [
    "import cv2\n",
    "import numpy as np\n",
    "\n",
    "img = cv2.imread('..\\images\\quote.jpg')\n",
    "w,h = 225,225\n",
    "\n",
    "src = np.float32([[24,59],[160,3], [74,214],[215,154]])\n",
    "dst = np.float32([[0,0],[w,0], [0,h],[w,h]])\n",
    "mask = cv2.getPerspectiveTransform(src,dst)\n",
    "\n",
    "new_img = cv2.warpPerspective(img,mask,(w,h))\n",
    "\n",
    "cv2.imshow('quote1',new_img)\n",
    "cv2.imshow('quote',img)\n",
    "\n",
    "cv2.waitKey(0)\n",
    "cv2.destroyAllWindows()"
   ]
  },
  {
   "cell_type": "code",
   "execution_count": null,
   "id": "b91beeca-c9b5-4ce7-947b-a4716bfce9ce",
   "metadata": {},
   "outputs": [],
   "source": []
  }
 ],
 "metadata": {
  "kernelspec": {
   "display_name": "Python 3 (ipykernel)",
   "language": "python",
   "name": "python3"
  },
  "language_info": {
   "codemirror_mode": {
    "name": "ipython",
    "version": 3
   },
   "file_extension": ".py",
   "mimetype": "text/x-python",
   "name": "python",
   "nbconvert_exporter": "python",
   "pygments_lexer": "ipython3",
   "version": "3.9.21"
  },
  "widgets": {
   "application/vnd.jupyter.widget-state+json": {
    "state": {},
    "version_major": 2,
    "version_minor": 0
   }
  }
 },
 "nbformat": 4,
 "nbformat_minor": 5
}
