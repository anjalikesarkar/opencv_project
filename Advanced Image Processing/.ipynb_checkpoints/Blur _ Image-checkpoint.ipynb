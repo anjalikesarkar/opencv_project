{
 "cells": [
  {
   "cell_type": "raw",
   "id": "5e73da22-b700-439e-be08-06b5c78e7dfc",
   "metadata": {},
   "source": [
    "Summary of Blurring Techniques:\n",
    "\n",
    "Technique\t           Function\t             Use Case                                           Details\n",
    "----------------------------------------------------------------------------------------------------------------------------------------------------\n",
    "Averaging Blur\t    cv2.blur()\t           Simple blur, noise reduction                  output image is the average of the pixel values in a window                                                                                             (kernel) around the corresponding pixel in the input image\n",
    "\n",
    "Gaussian Blur\t   cv2.GaussianBlur()\t  Smoothes the image with a Gaussian kernel      This produces a more natural blur, where pixels close to the                                                                                            center of the kernel have more weight than those further away.\n",
    "\n",
    "Median Blur\t       cv2.medianBlur()\t      Removes salt-and-pepper noise,preserves edges  Median blur replaces each pixel with the median value in the                                                                                            surrounding window\n",
    "\n",
    "Bilateral Filter   cv2.bilateralFilter()  Preserves edges while reducing noise           Bilateral filter is more advanced and retains sharp edges                                                                                               while smoothing the image"
   ]
  },
  {
   "cell_type": "code",
   "execution_count": 2,
   "id": "645c00b4-4e4b-4076-8e8c-c6a7f668bcf8",
   "metadata": {},
   "outputs": [],
   "source": [
    "import cv2\n",
    "import numpy as np\n",
    "\n",
    "diamond = cv2.imread('../images/dia.jpg')\n",
    "diamond_img = cv2.resize(diamond, (250,250))\n",
    "\n",
    "blurred_image = cv2.blur(diamond_img, (5, 5))\n",
    "\n",
    "# Apply Gaussian blur (kernel size 5x5, sigma=0)\n",
    "gaussian_blurred_image = cv2.GaussianBlur(diamond_img, (5, 5), 0)\n",
    "\n",
    "median_blurred_image = cv2.medianBlur(diamond_img, 5)\n",
    "\n",
    "# Apply Bilateral filter (diameter=9, sigmaColor=75, sigmaSpace=75)\n",
    "bilateral_filtered_image = cv2.bilateralFilter(diamond_img, 9, 75, 75)\n",
    "\n",
    "h_stack = np.hstack((diamond_img,blurred_image,gaussian_blurred_image,median_blurred_image,bilateral_filtered_image))\n",
    "cv2.imshow('Blurred Images',h_stack)\n",
    "cv2.waitKey(0)\n",
    "cv2.destroyAllWindows()"
   ]
  },
  {
   "cell_type": "markdown",
   "id": "4dee7a22-2cc5-4098-a8fb-4e4fa5f4f36e",
   "metadata": {},
   "source": [
    "# IMWRITE: SAVE IMAGE"
   ]
  },
  {
   "cell_type": "code",
   "execution_count": 4,
   "id": "c920c541-6647-4540-ac71-aa286558af44",
   "metadata": {},
   "outputs": [],
   "source": [
    "import os\n",
    "\n",
    "cv2.imshow('Blurred Images',h_stack)\n",
    "\n",
    "# imwrite function \n",
    "# saves in defualt working directory here, env\n",
    "cv2.imwrite('Diamond_blur_types.jpg',h_stack)\n",
    "\n",
    "# to save at path 1-specify path,2-path+img name\n",
    "img_path = 'C:\\\\Users\\\\user\\\\Desktop\\\\machineLearning\\\\env\\\\opencv_project\\\\images'\n",
    "#image full_name => path + image_name.jpg\n",
    "img_full_name = os.path.join(img_path, 'Diamond_blur_types.jpg')\n",
    "cv2.imwrite(img_full_name,h_stack)\n",
    "\n",
    "cv2.waitKey(0)\n",
    "cv2.destroyAllWindows()"
   ]
  },
  {
   "cell_type": "code",
   "execution_count": null,
   "id": "61f18778-57e3-4456-a3ea-0fbce77b4ab9",
   "metadata": {},
   "outputs": [],
   "source": []
  }
 ],
 "metadata": {
  "kernelspec": {
   "display_name": "Python 3 (ipykernel)",
   "language": "python",
   "name": "python3"
  },
  "language_info": {
   "codemirror_mode": {
    "name": "ipython",
    "version": 3
   },
   "file_extension": ".py",
   "mimetype": "text/x-python",
   "name": "python",
   "nbconvert_exporter": "python",
   "pygments_lexer": "ipython3",
   "version": "3.9.21"
  },
  "widgets": {
   "application/vnd.jupyter.widget-state+json": {
    "state": {},
    "version_major": 2,
    "version_minor": 0
   }
  }
 },
 "nbformat": 4,
 "nbformat_minor": 5
}
