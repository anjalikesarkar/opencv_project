{
 "cells": [
  {
   "cell_type": "markdown",
   "id": "5a255e50-a028-4776-98e0-69ec065a6a59",
   "metadata": {},
   "source": [
    "# Edge detection "
   ]
  },
  {
   "cell_type": "raw",
   "id": "864e0f90-4a69-44a3-86f9-29388cd3d620",
   "metadata": {},
   "source": [
    "Edge detection is a technique used in image processing to identify boundaries within an image.\n",
    "allowing the identification of objects, contours, and shapes.\n",
    "Canny Edge Detection and Sobel Edge Detection"
   ]
  },
  {
   "cell_type": "code",
   "execution_count": 1,
   "id": "3ecc8daf-03e2-4d8d-8f32-2199eb408bf1",
   "metadata": {},
   "outputs": [],
   "source": [
    "import cv2\n",
    "import numpy as np \n",
    "\n",
    "diamond = cv2.imread('../images/dia.jpg',0)\n",
    "diamond_img = cv2.resize(diamond, (400,400))\n",
    "\n",
    "canny_edge = cv2.Canny(diamond_img, threshold1=50, threshold2=50)\n",
    "\n",
    "# Apply Sobel operator in X direction (horizontal edges)\n",
    "sobel_x = cv2.Sobel(diamond_img, cv2.CV_64F, 1, 0, ksize=3)\n",
    "# Apply Sobel operator in Y direction (vertical edges)\n",
    "sobel_y = cv2.Sobel(diamond_img, cv2.CV_64F, 0, 1, ksize=3)\n",
    "# Compute the magnitude of the gradient\n",
    "sobel_edge = cv2.magnitude(sobel_x, sobel_y)\n",
    "\n",
    "cv2.imshow('canny_edge', canny_edge)\n",
    "cv2.imshow('sobel_edge', sobel_edge)\n",
    "\n",
    "cv2.waitKey(0)\n",
    "cv2.destroyAllWindows()"
   ]
  },
  {
   "cell_type": "code",
   "execution_count": null,
   "id": "2aa52b4d-5d77-4d93-bdc8-eeba8df74a7d",
   "metadata": {},
   "outputs": [],
   "source": []
  }
 ],
 "metadata": {
  "kernelspec": {
   "display_name": "Python 3 (ipykernel)",
   "language": "python",
   "name": "python3"
  },
  "language_info": {
   "codemirror_mode": {
    "name": "ipython",
    "version": 3
   },
   "file_extension": ".py",
   "mimetype": "text/x-python",
   "name": "python",
   "nbconvert_exporter": "python",
   "pygments_lexer": "ipython3",
   "version": "3.9.21"
  },
  "widgets": {
   "application/vnd.jupyter.widget-state+json": {
    "state": {},
    "version_major": 2,
    "version_minor": 0
   }
  }
 },
 "nbformat": 4,
 "nbformat_minor": 5
}
