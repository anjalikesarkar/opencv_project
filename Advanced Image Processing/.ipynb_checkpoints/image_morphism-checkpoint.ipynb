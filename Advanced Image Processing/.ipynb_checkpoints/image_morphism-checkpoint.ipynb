{
 "cells": [
  {
   "cell_type": "code",
   "execution_count": 1,
   "id": "77bb3ecf-093b-4d64-bfad-b6b25c73fca5",
   "metadata": {},
   "outputs": [],
   "source": [
    "import cv2\n",
    "import numpy as np\n",
    "\n",
    "#Read a image\n",
    "morph_img = cv2.imread('../images/test_8.jpeg')\n",
    "#resize image\n",
    "morph_img = cv2.resize(morph_img,(250,250))\n",
    "\n",
    "#Erosion \n",
    "k_erosion = np.ones((5,5),dtype = np.int8) #kernel is masking multiply to original image matrix\n",
    "er = cv2.erode(morph_img,k_erosion, iterations = 1) #Erosion => reduces size of white region , SHRINK the image\n",
    "eroded = cv2.putText(er, 'Erosion', (20, 35), cv2.FONT_HERSHEY_SIMPLEX, 1, (0,0,0), 1, cv2.LINE_AA) #Label Image\n",
    "\n",
    "#Dilate\n",
    "k_dilation = np.ones((5,5),dtype = np.int8) # kernel is masking multiply to original image matrix\n",
    "di = cv2.dilate(morph_img,k_dilation, iterations = 1) #Dilation =>  It increases the size of the white regions , enlarge the image\n",
    "dilate = cv2.putText(di, 'Dilate', (20, 35), cv2.FONT_HERSHEY_SIMPLEX, 1, (255, 255, 255), 1, cv2.LINE_AA) #Label Image\n",
    "\n",
    "#OPENING \n",
    "k_op = np.ones((5,5),dtype = np.int8) #kernel is masking multiply to original image matrix\n",
    "op = cv2.morphologyEx(morph_img, cv2.MORPH_OPEN,k_op,iterations = 1) #Opening =>Opening is the sequence of an erosion followed by a dilation\n",
    "opening = cv2.putText(op, 'Opening/OuterDot', (7, 35), cv2.FONT_HERSHEY_SIMPLEX, 1, (255, 255, 255), 1, cv2.LINE_AA) #Label Image\n",
    "\n",
    "#Closing\n",
    "k_cl = np.ones((10,10),dtype = np.int8) #kernel is masking multiply to original image matrix\n",
    "cl = cv2.morphologyEx(morph_img, cv2.MORPH_CLOSE,k_op,iterations = 1) #Opening =>Opening is the sequence of an erosion followed by a dilation\n",
    "closing = cv2.putText(cl, 'Closing/InnerDot', (7, 35), cv2.FONT_HERSHEY_SIMPLEX, 1, (255, 255, 255), 1, cv2.LINE_AA) #Label Image\n",
    "\n",
    "#Gradient\n",
    "k_gr = np.ones((10,10),dtype = np.int8) #kernel is masking multiply to original image matrix\n",
    "gr = cv2.morphologyEx(morph_img, cv2.MORPH_GRADIENT,k_gr,iterations = 1) #Opening =>Opening is the sequence of an erosion followed by a dilation\n",
    "Gradient = cv2.putText(gr, 'Gradient', (7, 35), cv2.FONT_HERSHEY_SIMPLEX, 1, (255, 255, 255), 1, cv2.LINE_AA) #Label Image\n",
    "\n",
    "#Top Hat\n",
    "k_th = np.ones((50,50),dtype = np.int8) #kernel is masking multiply to original image matrix\n",
    "th = cv2.morphologyEx(morph_img, cv2.MORPH_TOPHAT,k_th,iterations = 1) #Opening =>Opening is the sequence of an erosion followed by a dilation\n",
    "Top_Hat = cv2.putText(th, 'Top Hat', (7, 35), cv2.FONT_HERSHEY_SIMPLEX, 1, (255, 255, 255), 1, cv2.LINE_AA) #Label Image\n",
    "\n",
    "#Black Hat\n",
    "k_bh = np.ones((23,23),dtype = np.int8) #kernel is masking multiply to original image matrix\n",
    "bh = cv2.morphologyEx(morph_img, cv2.MORPH_BLACKHAT,k_bh,iterations = 1) #Opening =>Opening is the sequence of an erosion followed by a dilation\n",
    "Black_Hat = cv2.putText(bh, 'Black Hat', (7, 35), cv2.FONT_HERSHEY_SIMPLEX, 1, (255, 255, 255), 1, cv2.LINE_AA) #Label Image\n",
    "\n",
    "h1 = np.hstack((morph_img,er,di))\n",
    "h2 = np.hstack ((op,cl,gr))\n",
    "h3 = np.hstack ((th,bh,morph_img))\n",
    "v = np.vstack((h1,h2,h3))\n",
    "cv2.imshow('morph_image', v)\n",
    "cv2.waitKey(0)\n",
    "cv2.destroyAllWindows()"
   ]
  }
 ],
 "metadata": {
  "kernelspec": {
   "display_name": "Python 3 (ipykernel)",
   "language": "python",
   "name": "python3"
  },
  "language_info": {
   "codemirror_mode": {
    "name": "ipython",
    "version": 3
   },
   "file_extension": ".py",
   "mimetype": "text/x-python",
   "name": "python",
   "nbconvert_exporter": "python",
   "pygments_lexer": "ipython3",
   "version": "3.9.21"
  },
  "widgets": {
   "application/vnd.jupyter.widget-state+json": {
    "state": {},
    "version_major": 2,
    "version_minor": 0
   }
  }
 },
 "nbformat": 4,
 "nbformat_minor": 5
}
