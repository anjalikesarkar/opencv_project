{
 "cells": [
  {
   "cell_type": "markdown",
   "id": "bc6da41c-65d3-4270-b5c5-9df63c361a57",
   "metadata": {},
   "source": [
    "# Corner detection TYPE1: HARRIS ALGO"
   ]
  },
  {
   "cell_type": "code",
   "execution_count": 1,
   "id": "0c8a55f3-d58b-437f-9bde-14fbe771e6f0",
   "metadata": {},
   "outputs": [],
   "source": [
    "import cv2\n",
    "import numpy as np\n",
    "\n",
    "img = cv2.imread('../images/shapes.jpg')\n",
    "img = cv2.resize(img,(400,500))\n",
    "\n",
    "#Convert image into grayscale\n",
    "gray_img= cv2.cvtColor(img, cv2.COLOR_BGR2GRAY)\n",
    "\n",
    "#Harris algo \n",
    "#1) convert data into float 32 as requirement of Harris algo\n",
    "corner_img = np.float32(gray_img)\n",
    "#2)apply algo on float32 datatype image\n",
    "harris_img = cv2.cornerHarris(src=corner_img, blockSize=2, ksize=3, k=0.04)\n",
    "#3)Apply Dilate\n",
    "dl = cv2.dilate(harris_img,None)\n",
    "#4)Thresholding to avoid weakest corners\n",
    "thr_img = img[dl>0.001*dl.max()] = [0,0,0]\n",
    "\n",
    "cv2.imshow('Corners',img)\n",
    "cv2.waitKey(0)\n",
    "cv2.destroyAllWindows()"
   ]
  },
  {
   "cell_type": "markdown",
   "id": "07e196c3-7896-4ced-ae47-62640c16a875",
   "metadata": {},
   "source": [
    "# Corner detection TYPE2: SHI-TOMASI ALGO"
   ]
  },
  {
   "cell_type": "code",
   "execution_count": 2,
   "id": "d9e17e4d-cd46-4526-bb6a-34060b366bf6",
   "metadata": {},
   "outputs": [],
   "source": [
    "#Read image into grayscale\n",
    "img = cv2.imread('../images/shapes.png')\n",
    "img = cv2.resize(img,(400,500))\n",
    "#Convert image into grayscale\n",
    "gray_img= cv2.cvtColor(img, cv2.COLOR_BGR2GRAY)\n",
    "\n",
    "#1)Shi-Tomasi algo\n",
    "corners = cv2.goodFeaturesToTrack(image=gray_img, \n",
    "                                  maxCorners=100, qualityLevel = 0.1, \n",
    "                                  minDistance = 1, blockSize=3)\n",
    "\n",
    "#2)Datatype \n",
    "corners = np.int64(corners)\n",
    "\n",
    "#3)loop extract corner coordinates and mark with circle\n",
    "for corner in corners:\n",
    "    x,y = corner.ravel()\n",
    "    cv2.circle(img, (x,y),3,(0,0,0),-1)\n",
    "    \n",
    "cv2.imshow('Corners',img)\n",
    "cv2.waitKey(0)\n",
    "cv2.destroyAllWindows()"
   ]
  },
  {
   "cell_type": "code",
   "execution_count": null,
   "id": "e4c00c80-5c5c-4ca5-8e5c-e2f4f9675d83",
   "metadata": {},
   "outputs": [],
   "source": []
  }
 ],
 "metadata": {
  "kernelspec": {
   "display_name": "Python 3 (ipykernel)",
   "language": "python",
   "name": "python3"
  },
  "language_info": {
   "codemirror_mode": {
    "name": "ipython",
    "version": 3
   },
   "file_extension": ".py",
   "mimetype": "text/x-python",
   "name": "python",
   "nbconvert_exporter": "python",
   "pygments_lexer": "ipython3",
   "version": "3.9.21"
  },
  "widgets": {
   "application/vnd.jupyter.widget-state+json": {
    "state": {},
    "version_major": 2,
    "version_minor": 0
   }
  }
 },
 "nbformat": 4,
 "nbformat_minor": 5
}
