{
 "cells": [
  {
   "cell_type": "code",
   "execution_count": 1,
   "id": "d736e1cb-aa42-4cf2-b738-a139ac405d38",
   "metadata": {},
   "outputs": [],
   "source": [
    "import cv2\n",
    "\n",
    "def on_mouse_click(event,x,y,flag,param):\n",
    "    if event == cv2.EVENT_LBUTTONDOWN:\n",
    "        #x,y converted to string to make a text\n",
    "        str = f'{x},{y}'\n",
    "        cv2.putText(img=img, \n",
    "                    text=str,\n",
    "                    org=(x,y),\n",
    "                    fontFace=cv2.FONT_HERSHEY_PLAIN,fontScale=2,\n",
    "                    thickness=2,\n",
    "                    color=(0,0,0))\n",
    "        cv2.imshow('Mouse_Event',img)\n",
    "\n",
    "    elif event == cv2.EVENT_RBUTTONDOWN:\n",
    "        b = img[y,x,0]\n",
    "        g = img[y,x,1]\n",
    "        r = img[y,x,2]\n",
    "        str = f'{b},{g},{r}'\n",
    "        cv2.putText(img=img, \n",
    "                    text=str,\n",
    "                    org=(x,y),\n",
    "                    fontFace=cv2.FONT_HERSHEY_PLAIN,fontScale=2,\n",
    "                    thickness=2,\n",
    "                    color=(0,0,0))\n",
    "        cv2.imshow('Mouse_Event',img)\n",
    "\n",
    "img = cv2.imread('../images/balls.jpg')\n",
    "img = cv2.resize(img,(400,400))\n",
    "\n",
    "cv2.imshow('Mouse_Event',img)\n",
    "\n",
    "cv2.setMouseCallback('Mouse_Event',on_mouse_click)\n",
    "cv2.waitKey(0)\n",
    "cv2.destroyAllWindows()"
   ]
  },
  {
   "cell_type": "code",
   "execution_count": null,
   "id": "94584eee-a9c4-4764-ab7a-eaef58e3ed55",
   "metadata": {},
   "outputs": [],
   "source": []
  }
 ],
 "metadata": {
  "kernelspec": {
   "display_name": "Python 3 (ipykernel)",
   "language": "python",
   "name": "python3"
  },
  "language_info": {
   "codemirror_mode": {
    "name": "ipython",
    "version": 3
   },
   "file_extension": ".py",
   "mimetype": "text/x-python",
   "name": "python",
   "nbconvert_exporter": "python",
   "pygments_lexer": "ipython3",
   "version": "3.9.21"
  },
  "widgets": {
   "application/vnd.jupyter.widget-state+json": {
    "state": {},
    "version_major": 2,
    "version_minor": 0
   }
  }
 },
 "nbformat": 4,
 "nbformat_minor": 5
}
