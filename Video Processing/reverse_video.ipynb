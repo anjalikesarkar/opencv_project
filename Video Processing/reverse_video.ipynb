{
 "cells": [
  {
   "cell_type": "code",
   "execution_count": null,
   "id": "b8bb23dd-20c9-4081-9f0d-3328dd6e5876",
   "metadata": {},
   "outputs": [],
   "source": [
    "1) Read a video \n",
    "2) Extract images while reading with imwrite\n",
    "3) Store/append images in a list\n",
    "4) Reverse the list \n",
    "5) Loop thr list and read + show"
   ]
  },
  {
   "cell_type": "code",
   "execution_count": 1,
   "id": "c256c9f0-595f-43f7-92f9-844ded88b6ef",
   "metadata": {},
   "outputs": [],
   "source": [
    "import cv2\n",
    "cap = cv2.VideoCapture('../Sample Videos/diamonds.mp4')\n",
    "\n",
    "dia_img = []\n",
    "counter = 0\n",
    "while cap.isOpened():\n",
    "    ret,frame = cap.read()\n",
    "    if ret == True:\n",
    "        file_name = \"../Sample Videos/Extracted_Images/diamond\"+str(counter)+\".jpg\"\n",
    "        dia_img.append(file_name)\n",
    "        cv2.imwrite(file_name,frame)\n",
    "        counter+=1\n",
    "        cv2.imshow('Org_Video',frame)\n",
    "        if cv2.waitKey(25) & 0xff == ord('q'):\n",
    "            break\n",
    "    else:\n",
    "        break\n",
    "        \n",
    "dia_img.reverse()\n",
    "for img in dia_img:\n",
    "    new_frame = cv2.imread(img)\n",
    "    cv2.imshow('Reverse_Video',new_frame)\n",
    "    if cv2.waitKey(25) & 0xff == ord('q'):\n",
    "        break\n",
    "        \n",
    "cap.release()\n",
    "cv2.destroyAllWindows()"
   ]
  },
  {
   "cell_type": "code",
   "execution_count": null,
   "id": "5fdb6821-ec58-4ef3-b526-3fbc7aa519e5",
   "metadata": {},
   "outputs": [],
   "source": []
  }
 ],
 "metadata": {
  "kernelspec": {
   "display_name": "Python 3 (ipykernel)",
   "language": "python",
   "name": "python3"
  },
  "language_info": {
   "codemirror_mode": {
    "name": "ipython",
    "version": 3
   },
   "file_extension": ".py",
   "mimetype": "text/x-python",
   "name": "python",
   "nbconvert_exporter": "python",
   "pygments_lexer": "ipython3",
   "version": "3.9.21"
  },
  "widgets": {
   "application/vnd.jupyter.widget-state+json": {
    "state": {},
    "version_major": 2,
    "version_minor": 0
   }
  }
 },
 "nbformat": 4,
 "nbformat_minor": 5
}
