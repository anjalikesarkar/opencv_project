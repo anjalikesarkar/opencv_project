{
 "cells": [
  {
   "cell_type": "code",
   "execution_count": 1,
   "id": "2fbbba4b-3a61-47d5-bc31-1e83054be7d7",
   "metadata": {},
   "outputs": [],
   "source": [
    "import cv2\n",
    "import os\n",
    "cap = cv2.VideoCapture(\"../Sample Videos/sparrow.mp4\")\n",
    "counter = 0\n",
    "while True:\n",
    "    ret,frame = cap.read()\n",
    "    if ret == True:\n",
    "        #Output folder\n",
    "        output_folder = \"../Sample Videos/Extracted_images\"\n",
    "        \n",
    "        #output full path\n",
    "        file_name = os.path.join(output_folder, f\"sparrow_img_{counter}.jpg\")\n",
    "        counter+=1\n",
    "        #for each frame give filename and write \n",
    "        cv2.imwrite(file_name,frame)\n",
    "        cv2.imshow('Video_capture',frame)\n",
    "        if cv2.waitKey(40) & 0xFF == ord('q'):\n",
    "            break\n",
    "    else:\n",
    "        print(\"Video not available!\")\n",
    "        break\n",
    "\n",
    "cap.release()\n",
    "cv2.destroyAllWindows()"
   ]
  },
  {
   "cell_type": "code",
   "execution_count": null,
   "id": "9b55284d-5f51-4346-baa2-379aaef74d28",
   "metadata": {},
   "outputs": [],
   "source": []
  }
 ],
 "metadata": {
  "kernelspec": {
   "display_name": "Python 3 (ipykernel)",
   "language": "python",
   "name": "python3"
  },
  "language_info": {
   "codemirror_mode": {
    "name": "ipython",
    "version": 3
   },
   "file_extension": ".py",
   "mimetype": "text/x-python",
   "name": "python",
   "nbconvert_exporter": "python",
   "pygments_lexer": "ipython3",
   "version": "3.9.21"
  },
  "widgets": {
   "application/vnd.jupyter.widget-state+json": {
    "state": {},
    "version_major": 2,
    "version_minor": 0
   }
  }
 },
 "nbformat": 4,
 "nbformat_minor": 5
}
