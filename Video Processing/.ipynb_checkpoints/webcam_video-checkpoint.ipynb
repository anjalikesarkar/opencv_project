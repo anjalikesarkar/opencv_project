{
 "cells": [
  {
   "cell_type": "markdown",
   "id": "67a4ed6f-8406-4cbb-adc7-9f964c4eba47",
   "metadata": {},
   "source": [
    "# Reading video from webcam"
   ]
  },
  {
   "cell_type": "code",
   "execution_count": 4,
   "id": "2bede572-d6ba-49c4-b79f-08d3a97436a9",
   "metadata": {},
   "outputs": [],
   "source": [
    "import cv2\n",
    "cap = cv2.VideoCapture(0)\n",
    "\n",
    "while True:\n",
    "    ret, frame = cap.read()\n",
    "    if ret == True:\n",
    "        resized_frame = cv2.resize(frame,(500,500))\n",
    "        cv2.imshow('WEBCAM CAPTURE',resized_frame)\n",
    "\n",
    "        if cv2.waitKey(1000) & 0xFF == ord('q'):\n",
    "            break\n",
    "    else:\n",
    "        print('Webcam Not Available!')\n",
    "        break\n",
    "cap.release()\n",
    "cv2.destroyAllWindows()"
   ]
  },
  {
   "cell_type": "markdown",
   "id": "fbc3aa2f-3af4-41ce-bdab-4e8a2c16ce32",
   "metadata": {},
   "source": [
    "# Saving a video"
   ]
  },
  {
   "cell_type": "raw",
   "id": "f358965e-096e-488f-83ad-b7e1b9d86f54",
   "metadata": {},
   "source": [
    "#As start webcamera it is selfie image\n",
    "#We need to flip an image\n",
    "#fourcc = saving mode selection\n",
    "#videowriter = name, mode (fourcc),fps,resolution\n",
    "# release in end to save\n",
    "#waitkey should be 1 as to record video normal\n",
    "# saves video in current working directory"
   ]
  },
  {
   "cell_type": "code",
   "execution_count": 2,
   "id": "c7553822-9fa9-42d0-8ff6-b62acd294c0c",
   "metadata": {},
   "outputs": [],
   "source": [
    "import cv2\n",
    "cap = cv2.VideoCapture(0)\n",
    "f = cv2.VideoWriter.fourcc(*'H264')\n",
    "out = cv2.VideoWriter('demo.mp4',f,30.0,(640,320))\n",
    "\n",
    "while cap.isOpened():\n",
    "    ret, frame = cap.read()\n",
    "    if ret == True:\n",
    "        flip_frame = cv2.flip(frame,1)\n",
    "        out.write(frame)\n",
    "        cv2.imshow('my_video',flip_frame)\n",
    "        \n",
    "        if cv2.waitKey(1) & 0xff == ord('q'):\n",
    "            break\n",
    "    else:\n",
    "        print('Video not found!')\n",
    "        break\n",
    "cap.release()\n",
    "out.release()\n",
    "cv2.destroyWindow('my_video')  # Close the specific window by name\n",
    "cv2.destroyAllWindows()"
   ]
  },
  {
   "cell_type": "code",
   "execution_count": null,
   "id": "e955f7d2-454a-4505-86a0-1462f4460204",
   "metadata": {},
   "outputs": [],
   "source": []
  }
 ],
 "metadata": {
  "kernelspec": {
   "display_name": "Python 3 (ipykernel)",
   "language": "python",
   "name": "python3"
  },
  "language_info": {
   "codemirror_mode": {
    "name": "ipython",
    "version": 3
   },
   "file_extension": ".py",
   "mimetype": "text/x-python",
   "name": "python",
   "nbconvert_exporter": "python",
   "pygments_lexer": "ipython3",
   "version": "3.9.21"
  },
  "widgets": {
   "application/vnd.jupyter.widget-state+json": {
    "state": {},
    "version_major": 2,
    "version_minor": 0
   }
  }
 },
 "nbformat": 4,
 "nbformat_minor": 5
}
