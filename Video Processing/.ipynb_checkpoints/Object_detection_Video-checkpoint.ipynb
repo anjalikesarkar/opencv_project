{
 "cells": [
  {
   "cell_type": "raw",
   "id": "4c20a08e-1ef2-4a55-9ec1-832ebd578aba",
   "metadata": {},
   "source": [
    "1) Read a video \n",
    "2) calculate ROI thr paint x1,y1,x2=w,y2=h w=total width - x, height = total height-y \n",
    "x=917,y=203 , w= 1045-917=128, h = 329-203=126\n",
    "3) Create a rectangle or ROI\n",
    "4) HSV of ROI => Image showld be converted to HSV \n",
    "5) To cal hist create mask and creaste hist of ROI => To know rigon where pixel matches \n",
    "6) Normalize hist to remove noise\n",
    "7) Apply term criteria => when should algo stop\n",
    "\n",
    "7) HSV of original frame\n",
    "8) BackProject => checks where is same patch as ROI , dark area is matching and light is not matvhing\n",
    "9) Meanshift => used to perform mean shift tracking or clustering => returns new position of ROI in window and no. of iter algo took to coverage\n",
    " "
   ]
  },
  {
   "cell_type": "code",
   "execution_count": 3,
   "id": "36c31070-ba30-450b-b10e-7f7b32419e4b",
   "metadata": {},
   "outputs": [],
   "source": [
    "import cv2\n",
    "import numpy as np\n",
    "\n",
    "cap = cv2.VideoCapture('../Sample Videos/sparrow.mp4')\n",
    "\n",
    "#Read frame for ROI calculations\n",
    "ret,frame = cap.read()\n",
    "x,y,w,h = 94,130,290,100\n",
    "window = (x,y,w,h)\n",
    "roi = frame[y:y+h,x:x+w]\n",
    "hsv_roi = cv2.cvtColor(roi,cv2.COLOR_BGR2HSV)\n",
    "mask = cv2.inRange(hsv_roi,np.array((0.,60.,32.)), np.array((180.,255.,255.)))\n",
    "roi_hist = cv2.calcHist([hsv_roi],[0],mask = mask,\n",
    "                       histSize=[180],ranges=[0,180])\n",
    "cv2.normalize(src=roi_hist,dst=roi_hist,norm_type=cv2.NORM_MINMAX)\n",
    "cv2.imshow(\"ROI\", roi)\n",
    "\n",
    "term_cond = ((cv2.TERM_CRITERIA_EPS )| (cv2.TERM_CRITERIA_COUNT), 10,1)\n",
    "\n",
    "while cap.isOpened():\n",
    "    ret,frame = cap.read()\n",
    "    if ret == True:\n",
    "        hsv_frame = cv2.cvtColor(frame, cv2.COLOR_BGR2HSV)\n",
    "\n",
    "        d = cv2.calcBackProject(images = [hsv_frame],channels = [0],\n",
    "                                hist = roi_hist,ranges=[0,180],scale=1)\n",
    "\n",
    "        r,th = cv2.meanShift(d,window,term_cond)\n",
    "\n",
    "        x,y,w,h = th\n",
    "\n",
    "        final = cv2.rectangle(img = frame, \n",
    "                              pt1 = (x,y), \n",
    "                              pt2 = (x+w,y+h), \n",
    "                              color = (0,255,0), \n",
    "                              lineType = 4)\n",
    "        cv2.imshow('Obj Detection',frame)\n",
    "        if cv2.waitKey(50) & 0xff == ord('q'):\n",
    "            break\n",
    "    else:\n",
    "        break\n",
    "\n",
    "cap.release()\n",
    "cv2.destroyAllWindows()"
   ]
  },
  {
   "cell_type": "code",
   "execution_count": null,
   "id": "15fec8f6-e8f2-4120-b8c6-12a01f66ce85",
   "metadata": {},
   "outputs": [],
   "source": []
  }
 ],
 "metadata": {
  "kernelspec": {
   "display_name": "Python 3 (ipykernel)",
   "language": "python",
   "name": "python3"
  },
  "language_info": {
   "codemirror_mode": {
    "name": "ipython",
    "version": 3
   },
   "file_extension": ".py",
   "mimetype": "text/x-python",
   "name": "python",
   "nbconvert_exporter": "python",
   "pygments_lexer": "ipython3",
   "version": "3.9.21"
  },
  "widgets": {
   "application/vnd.jupyter.widget-state+json": {
    "state": {},
    "version_major": 2,
    "version_minor": 0
   }
  }
 },
 "nbformat": 4,
 "nbformat_minor": 5
}
