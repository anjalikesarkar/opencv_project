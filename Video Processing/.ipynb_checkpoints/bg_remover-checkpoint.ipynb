{
 "cells": [
  {
   "cell_type": "markdown",
   "id": "cc767452-c153-4ebc-9496-30c3c805cc60",
   "metadata": {},
   "source": [
    "# Bg remove from video # TYPE1: Using GrabCut "
   ]
  },
  {
   "cell_type": "code",
   "execution_count": 2,
   "id": "16f0fe4c-ab53-46b3-a735-e32e7cf23f32",
   "metadata": {},
   "outputs": [],
   "source": [
    "import cv2\n",
    "import numpy as np\n",
    "\n",
    "cap = cv2.VideoCapture('../Sample Videos/yoga.mp4')\n",
    "\n",
    "fourcc = cv2.VideoWriter_fourcc(*'XVID')\n",
    "out = cv2.VideoWriter('output_video.avi', fourcc, 20.0, (int(cap.get(3)), int(cap.get(4))))\n",
    "\n",
    "while cap.isOpened():\n",
    "    ret, frame = cap.read()\n",
    "    if ret == True:\n",
    "        mask = np.zeros(frame.shape[:2], np.uint8)\n",
    "        \n",
    "        rect = (20, 20, frame.shape[1] - 10, frame.shape[0] - 10)\n",
    "        \n",
    "        # Initialize background and foreground models\n",
    "        bgd_model = np.zeros((1, 65), np.float64)\n",
    "        fgd_model = np.zeros((1, 65), np.float64)\n",
    "    \n",
    "        # Apply GrabCut algorithm\n",
    "        cv2.grabCut(frame, mask, rect, bgd_model, fgd_model, 5, cv2.GC_INIT_WITH_RECT)\n",
    "    \n",
    "        # Modify mask to create a binary mask\n",
    "        mask2 = np.where((mask == 2) | (mask == 0), 0, 1).astype(np.uint8)\n",
    "    \n",
    "        # Create a foreground mask\n",
    "        result = cv2.bitwise_and(frame, frame, mask=mask2)\n",
    "\n",
    "        out.write(result)\n",
    "        cv2.imshow('Foreground',result)\n",
    "    \n",
    "        if cv2.waitKey(1) & 0xff == ord('q'):\n",
    "            break\n",
    "    else:\n",
    "        print('Video not found!')\n",
    "        break\n",
    "out.release()\n",
    "cap.release()\n",
    "cv2.destroyAllWindows()"
   ]
  },
  {
   "cell_type": "markdown",
   "id": "6b77930d-4be9-4aef-bfba-6ad81dc2bfd4",
   "metadata": {},
   "source": [
    "# Bg remove from video #Type2:Using Background Subtraction"
   ]
  },
  {
   "cell_type": "code",
   "execution_count": 3,
   "id": "7171b7e7-067d-4f13-b003-3342acd7b155",
   "metadata": {},
   "outputs": [],
   "source": [
    "import cv2\n",
    "import numpy as np\n",
    "cap = cv2.VideoCapture('../Sample Videos/yoga.mp4')\n",
    "\n",
    "bg_sub_knn = cv2.createBackgroundSubtractorKNN()\n",
    "bg_sub_mog = cv2.createBackgroundSubtractorMOG2()\n",
    "\n",
    "while cap.isOpened():\n",
    "    ret,frame = cap.read()\n",
    "    if ret == True:\n",
    "        knn_video = bg_sub_knn.apply(frame)\n",
    "        mog_video = bg_sub_mog.apply(frame)\n",
    "\n",
    "        cv2.imshow('Video',frame)\n",
    "        cv2.imshow('KNN_Video',knn_video)\n",
    "        cv2.imshow('MOG_Video',mog_video)\n",
    "        if cv2.waitKey(40) & 0xff == ord('q'):\n",
    "            break\n",
    "    else:\n",
    "        break\n",
    "\n",
    "cap.release()\n",
    "cv2.destroyAllWindows()"
   ]
  }
 ],
 "metadata": {
  "kernelspec": {
   "display_name": "Python 3 (ipykernel)",
   "language": "python",
   "name": "python3"
  },
  "language_info": {
   "codemirror_mode": {
    "name": "ipython",
    "version": 3
   },
   "file_extension": ".py",
   "mimetype": "text/x-python",
   "name": "python",
   "nbconvert_exporter": "python",
   "pygments_lexer": "ipython3",
   "version": "3.9.21"
  },
  "widgets": {
   "application/vnd.jupyter.widget-state+json": {
    "state": {},
    "version_major": 2,
    "version_minor": 0
   }
  }
 },
 "nbformat": 4,
 "nbformat_minor": 5
}
