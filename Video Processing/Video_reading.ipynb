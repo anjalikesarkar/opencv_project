{
 "cells": [
  {
   "cell_type": "markdown",
   "id": "d5d803f6-2df7-4b76-aae9-ddeb01bc52fb",
   "metadata": {},
   "source": [
    "# Saved video reading"
   ]
  },
  {
   "cell_type": "code",
   "execution_count": 1,
   "id": "d2d8f1b6-259c-4747-9658-6d497e8009e1",
   "metadata": {},
   "outputs": [],
   "source": [
    "import cv2\n",
    "cap = cv2.VideoCapture('../Sample Videos/diamonds.mp4')\n",
    "\n",
    "while cap.isOpened(): #Check video is available \n",
    "    ret,frame = cap.read() #video read has 2 attributes=> binary : ret (T video running,F video stop), fps: frame\n",
    "    if ret == True: #While video is running\n",
    "        cv2.imshow('Video Frame', frame) #show fps , frame name\n",
    "        if cv2.waitKey(15) & 0xFF == ord('q'): #exit on 1ms and q press\n",
    "             break\n",
    "    else:\n",
    "        break\n",
    "    pass\n",
    "    \n",
    "cap.release() #release video at frame \n",
    "cv2.destroyAllWindows() "
   ]
  },
  {
   "cell_type": "markdown",
   "id": "3950c49e-5737-4d2b-be09-75cbdc920c36",
   "metadata": {},
   "source": [
    "# # SLOW / FAST MOTION "
   ]
  },
  {
   "cell_type": "raw",
   "id": "865c78ec-2bf8-4583-b252-b7abb4323f3a",
   "metadata": {},
   "source": [
    "Slow and fast motin of video is depend on waitKey()\n",
    "if waitKey(0-25): Fast\n",
    "if waitKey(>25): Slower by rate \n",
    "\n",
    "free Video download:\n",
    "PIXABAY.com"
   ]
  }
 ],
 "metadata": {
  "kernelspec": {
   "display_name": "Python 3 (ipykernel)",
   "language": "python",
   "name": "python3"
  },
  "language_info": {
   "codemirror_mode": {
    "name": "ipython",
    "version": 3
   },
   "file_extension": ".py",
   "mimetype": "text/x-python",
   "name": "python",
   "nbconvert_exporter": "python",
   "pygments_lexer": "ipython3",
   "version": "3.9.21"
  },
  "widgets": {
   "application/vnd.jupyter.widget-state+json": {
    "state": {},
    "version_major": 2,
    "version_minor": 0
   }
  }
 },
 "nbformat": 4,
 "nbformat_minor": 5
}
