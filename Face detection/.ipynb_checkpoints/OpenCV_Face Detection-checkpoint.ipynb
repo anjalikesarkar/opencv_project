{
 "cells": [
  {
   "cell_type": "markdown",
   "id": "060c1131-3ebb-4e64-9058-eaee8d790f09",
   "metadata": {},
   "source": [
    "# Image Face Detection"
   ]
  },
  {
   "cell_type": "code",
   "execution_count": 2,
   "id": "06fa30d0-f78d-4745-858e-b6f8145dbaa1",
   "metadata": {},
   "outputs": [],
   "source": [
    "import cv2\n",
    "\n",
    "img = cv2.imread('../images/baby.jpg')\n",
    "#print(img.shape)\n",
    "gray_img = cv2.cvtColor(img, cv2.COLOR_BGR2GRAY)\n",
    "#print(gray_img.shape)\n",
    "\n",
    "#1)Load the classifier\n",
    "face_classifier = cv2.CascadeClassifier(r'C:\\Users\\user\\Desktop\\machineLearning\\env\\Lib\\site-packages\\cv2\\data\\haarcascade_frontalface_default.xml')\n",
    "#2)Apply on image\n",
    "face = face_classifier.detectMultiScale(gray_img, scaleFactor=1.1, minNeighbors=5, minSize=(40, 40))\n",
    "#3)Draw rectangle loop thr face\n",
    "for (x,y,w,h) in face:\n",
    "    cv2.rectangle(img, (x, y), (x + w, y + h), (0, 255, 0), 4)\n",
    "\n",
    "cv2.imshow('Face',img)\n",
    "cv2.waitKey(0)\n",
    "cv2.destroyAllWindows()"
   ]
  },
  {
   "cell_type": "markdown",
   "id": "94872b74-0d6b-446c-828a-b79298617a84",
   "metadata": {},
   "source": [
    "# Live Video Face detection"
   ]
  },
  {
   "cell_type": "code",
   "execution_count": 30,
   "id": "a7bd9992-3c39-4dda-a323-574de7449e8f",
   "metadata": {},
   "outputs": [],
   "source": [
    "import cv2\n",
    "\n",
    "face_classifier = cv2.CascadeClassifier(r'C:\\Users\\user\\Desktop\\machineLearning\\env\\Lib\\site-packages\\cv2\\data\\haarcascade_frontalface_default.xml')\n",
    "\n",
    "cap = cv2.VideoCapture(0)\n",
    "\n",
    "def detect_bounding_box(vid):\n",
    "    gray_image = cv2.cvtColor(vid, cv2.COLOR_BGR2GRAY)\n",
    "    faces = face_classifier.detectMultiScale(gray_image, 1.1, 5, minSize=(40, 40))\n",
    "    for (x, y, w, h) in faces:\n",
    "        cv2.rectangle(vid, (x, y), (x + w, y + h), (0, 255, 0), 4)\n",
    "    return faces\n",
    "    \n",
    "while cap.isOpened():\n",
    "    ret,frame = cap.read()\n",
    "    if ret == True:\n",
    "        face = detect_bounding_box(frame)\n",
    "        cv2.imshow('Face',frame)\n",
    "        if cv2.waitKey(25) & 0xff == ord('q'):\n",
    "            break\n",
    "    else:\n",
    "        break\n",
    "        \n",
    "cap.release()\n",
    "cv2.destroyAllWindows()"
   ]
  },
  {
   "cell_type": "code",
   "execution_count": null,
   "id": "59bc3fda-2f1d-4f0f-ba34-3a14ff35229f",
   "metadata": {},
   "outputs": [],
   "source": []
  }
 ],
 "metadata": {
  "kernelspec": {
   "display_name": "Python 3 (ipykernel)",
   "language": "python",
   "name": "python3"
  },
  "language_info": {
   "codemirror_mode": {
    "name": "ipython",
    "version": 3
   },
   "file_extension": ".py",
   "mimetype": "text/x-python",
   "name": "python",
   "nbconvert_exporter": "python",
   "pygments_lexer": "ipython3",
   "version": "3.9.21"
  },
  "widgets": {
   "application/vnd.jupyter.widget-state+json": {
    "state": {},
    "version_major": 2,
    "version_minor": 0
   }
  }
 },
 "nbformat": 4,
 "nbformat_minor": 5
}
