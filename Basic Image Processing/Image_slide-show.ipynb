{
 "cells": [
  {
   "cell_type": "code",
   "execution_count": 2,
   "id": "75634b9d-7b68-4367-8c90-a11db27e38d0",
   "metadata": {},
   "outputs": [],
   "source": [
    "import os\n",
    "import cv2\n",
    "\n",
    "#List all images\n",
    "list_img = os.listdir('../images/object detection')\n",
    "#Loop through eaxh image \n",
    "for img in list_img:\n",
    "    #path to thr folder\n",
    "    path = 'C:\\\\Users\\\\user\\\\Desktop\\\\machineLearning\\\\env\\\\images\\\\object detection'\n",
    "    #name is path + image.jpg we get from list \n",
    "    img_name = path + '\\\\'+img\n",
    "    #read image\n",
    "    img = cv2.imread(img_name)\n",
    "    #resize image\n",
    "    img = cv2.resize(img,(300,300))\n",
    "    #show image shows all images from folder loop through and close\n",
    "    cv2.imshow('Slide_Show',img)\n",
    "    #Autorun each image for 1 sec\n",
    "    cv2.waitKey(1000)\n",
    "    #Run mannualy on image change on button press\n",
    "    #cv2.waitKey(0)\n",
    "    cv2.destroyAllWindows()"
   ]
  },
  {
   "cell_type": "code",
   "execution_count": null,
   "id": "20032cd7-89fd-4411-923c-478bfaade080",
   "metadata": {},
   "outputs": [],
   "source": []
  }
 ],
 "metadata": {
  "kernelspec": {
   "display_name": "Python 3 (ipykernel)",
   "language": "python",
   "name": "python3"
  },
  "language_info": {
   "codemirror_mode": {
    "name": "ipython",
    "version": 3
   },
   "file_extension": ".py",
   "mimetype": "text/x-python",
   "name": "python",
   "nbconvert_exporter": "python",
   "pygments_lexer": "ipython3",
   "version": "3.9.21"
  },
  "widgets": {
   "application/vnd.jupyter.widget-state+json": {
    "state": {},
    "version_major": 2,
    "version_minor": 0
   }
  }
 },
 "nbformat": 4,
 "nbformat_minor": 5
}
