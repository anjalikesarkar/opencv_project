{
 "cells": [
  {
   "cell_type": "markdown",
   "id": "238426be-f580-47b1-af60-84ce58c5d90d",
   "metadata": {},
   "source": [
    "# COLOR READING ON IMAGES"
   ]
  },
  {
   "cell_type": "raw",
   "id": "a62cc92c-8a01-4a29-91c2-0a149c4e705e",
   "metadata": {},
   "source": [
    "***********************************************\n",
    " 1 = BGR (cv2 Default), (image_shape,3)\n",
    "\n",
    "-1 = Alpha channel reading, (image_shape,3)\n",
    "\n",
    " 0 = Grayscale Image (image_shape)\n",
    "\n",
    "Color image has channel 3"
   ]
  },
  {
   "cell_type": "code",
   "execution_count": 4,
   "id": "36a958d4-8c20-47f3-9f8d-9f42d277b9b3",
   "metadata": {},
   "outputs": [
    {
     "name": "stdout",
     "output_type": "stream",
     "text": [
      "Car_Image_Pixel = (457, 612, 3) as we are passing flag 1\n",
      "Dog_Image_Pixel = (190, 266, 3) as we are passing flag -1\n",
      "Car_Gray_Image_Pixel = (457, 612) as we are passing flag 0\n"
     ]
    }
   ],
   "source": [
    "import cv2\n",
    "car_img = cv2.imread('../images/car.jpg',1) \n",
    "print(f'Car_Image_Pixel = {car_img.shape} as we are passing flag 1')\n",
    "\n",
    "dog_img = cv2.imread('../images/dog.jpg',-1)\n",
    "print(f'Dog_Image_Pixel = {dog_img.shape} as we are passing flag -1')\n",
    "\n",
    "car_gray_img = cv2.imread('../images/car.jpg',0) \n",
    "print(f'Car_Gray_Image_Pixel = {car_gray_img.shape} as we are passing flag 0')\n",
    "\n",
    "car_img = cv2.resize(car_img, (300,300))\n",
    "dog_img = cv2.resize(dog_img, (300,300))\n",
    "car_gray_img = cv2.resize(car_gray_img, (300,300))\n",
    "\n",
    "cv2.imshow('Car_Image', car_img)\n",
    "cv2.imshow('Dog_Image', dog_img)\n",
    "cv2.imshow('Car_Gray_Image', car_gray_img)\n",
    "\n",
    "cv2.waitKey(0)\n",
    "cv2.destroyAllWindows()"
   ]
  },
  {
   "cell_type": "markdown",
   "id": "44c825ff-775b-4a42-82db-f716b12c4f8e",
   "metadata": {},
   "source": [
    "# IMAGE GRAYSCALING "
   ]
  },
  {
   "cell_type": "code",
   "execution_count": 9,
   "id": "23de3970-a28f-4542-bc67-0adde30806d8",
   "metadata": {},
   "outputs": [],
   "source": [
    "import cv2\n",
    "import numpy as np\n",
    "\n",
    "# Load the image (make sure the image path is correct)\n",
    "image = cv2.imread('../images/test.png')\n",
    "\n",
    "# Convert the image to grayscale\n",
    "gray = cv2.cvtColor(image, cv2.COLOR_BGR2GRAY)\n",
    "\n",
    "# Apply thresholding to create a binary mask\n",
    "_, mask = cv2.threshold(gray, 200, 255, cv2.THRESH_BINARY)\n",
    "\n",
    "# Create a black background (same size as the image)\n",
    "black_background = np.zeros_like(image)\n",
    "\n",
    "# Apply the mask to get the foreground (non-black parts of the image)\n",
    "foreground = cv2.bitwise_and(image, image, mask=mask)\n",
    "\n",
    "# Replace the background with black by adding the foreground to the black background\n",
    "result = black_background + foreground\n",
    "\n",
    "# Display the result\n",
    "cv2.imshow('Masked Image', result)\n",
    "cv2.waitKey(0)\n",
    "cv2.destroyAllWindows()"
   ]
  },
  {
   "cell_type": "markdown",
   "id": "fe5577cc-1de3-46f7-977d-a5d2ed9719da",
   "metadata": {},
   "source": [
    "# COLOR COVERTING BGR2"
   ]
  },
  {
   "cell_type": "code",
   "execution_count": 10,
   "id": "ad466803-d78f-4b7f-ae6b-a8f0f001fb49",
   "metadata": {},
   "outputs": [],
   "source": [
    "import numpy as np\n",
    "import cv2\n",
    "\n",
    "img = cv2.imread('../images/smily_women.jpg')\n",
    "img_resize = cv2.resize(img,(400,400))\n",
    "RGB = cv2.putText(img_resize,'BGR IMG',(5,30),cv2.FONT_HERSHEY_PLAIN,1,(0,0,0),1, cv2.LINE_AA)\n",
    "\n",
    "RGB_img = cv2.cvtColor(img_resize,cv2.COLOR_BGR2RGB)\n",
    "RGB = cv2.putText(RGB_img,'RGB IMG',(300,30),cv2.FONT_HERSHEY_PLAIN,1,(0,0,0),1, cv2.LINE_AA)\n",
    "\n",
    "GRAY_img = cv2.cvtColor(img_resize,cv2.COLOR_BGR2GRAY)\n",
    "\n",
    "h = np.hstack((img_resize,RGB_img))\n",
    "cv2.imshow('IMAGE',h)\n",
    "cv2.imshow('GRAY Img',GRAY_img )\n",
    "cv2.waitKey(0)\n",
    "cv2.destroyAllWindows()"
   ]
  },
  {
   "cell_type": "code",
   "execution_count": null,
   "id": "fd66aba9-48fe-4adf-bc2e-a4bf8675c5eb",
   "metadata": {},
   "outputs": [],
   "source": []
  }
 ],
 "metadata": {
  "kernelspec": {
   "display_name": "Python 3 (ipykernel)",
   "language": "python",
   "name": "python3"
  },
  "language_info": {
   "codemirror_mode": {
    "name": "ipython",
    "version": 3
   },
   "file_extension": ".py",
   "mimetype": "text/x-python",
   "name": "python",
   "nbconvert_exporter": "python",
   "pygments_lexer": "ipython3",
   "version": "3.9.21"
  },
  "widgets": {
   "application/vnd.jupyter.widget-state+json": {
    "state": {},
    "version_major": 2,
    "version_minor": 0
   }
  }
 },
 "nbformat": 4,
 "nbformat_minor": 5
}
