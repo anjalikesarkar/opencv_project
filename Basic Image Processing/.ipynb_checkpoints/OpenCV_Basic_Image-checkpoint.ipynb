{
 "cells": [
  {
   "cell_type": "markdown",
   "id": "ad0a2670-271d-41e4-aaad-81dccad4b3ce",
   "metadata": {},
   "source": [
    "# Read & Show Image,waitKey,distroyAllWindows"
   ]
  },
  {
   "cell_type": "code",
   "execution_count": 1,
   "id": "b92f7e49-c6b8-4cae-bb5a-10f62621ee58",
   "metadata": {},
   "outputs": [],
   "source": [
    "#Read Image\n",
    "#1)read a path\n",
    "import cv2\n",
    "\n",
    "img = cv2.imread('../images/car.jpg') \n",
    "img2 = cv2.imread('../images/dog.jpg') \n",
    "\n",
    "#2)show window name and parameter where image is saved\n",
    "cv2.imshow('Image', img)\n",
    "cv2.imshow('Image_2', img2)\n",
    "\n",
    "#3)Waitkey for how much time you want to keep window open! cqn pass time in milliseconds here 10ms\n",
    "#cv2.waitKey(10000)\n",
    "# if 0 they closes on any keyboard key press only\n",
    "cv2.waitKey(0)\n",
    "\n",
    "#4)Closing button pressto close all windows together\n",
    "cv2.destroyAllWindows()\n",
    "#To close only named window intime or on buttonpress\n",
    "#cv2.destroyWindow('Image_2')"
   ]
  },
  {
   "cell_type": "markdown",
   "id": "9b64f15d-781d-4b39-9851-a996acb17fd9",
   "metadata": {},
   "source": [
    "# RESIZING IMAGE"
   ]
  },
  {
   "cell_type": "code",
   "execution_count": 2,
   "id": "38521770-ae9d-4036-9021-3b226c67286c",
   "metadata": {},
   "outputs": [],
   "source": [
    "resize_img = cv2.imread('../images/dog.jpg') \n",
    "\n",
    "#resize image using cv2.resize, give width,heigth\n",
    "re_img = cv2.resize(resize_img, (200,200))\n",
    "\n",
    "cv2.imshow('resized_image',re_img)\n",
    "cv2.waitKey(0)\n",
    "cv2.destroyAllWindows()"
   ]
  },
  {
   "cell_type": "code",
   "execution_count": null,
   "id": "d4b4de30-2c07-4f2c-96a8-fc6d3fc37837",
   "metadata": {},
   "outputs": [],
   "source": []
  }
 ],
 "metadata": {
  "kernelspec": {
   "display_name": "Python 3 (ipykernel)",
   "language": "python",
   "name": "python3"
  },
  "language_info": {
   "codemirror_mode": {
    "name": "ipython",
    "version": 3
   },
   "file_extension": ".py",
   "mimetype": "text/x-python",
   "name": "python",
   "nbconvert_exporter": "python",
   "pygments_lexer": "ipython3",
   "version": "3.9.21"
  },
  "widgets": {
   "application/vnd.jupyter.widget-state+json": {
    "state": {},
    "version_major": 2,
    "version_minor": 0
   }
  }
 },
 "nbformat": 4,
 "nbformat_minor": 5
}
