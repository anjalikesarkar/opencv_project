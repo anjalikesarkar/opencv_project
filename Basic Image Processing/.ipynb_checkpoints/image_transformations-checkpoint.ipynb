{
 "cells": [
  {
   "cell_type": "markdown",
   "id": "0a8de001-e864-4060-9fd2-6f60fcaaafef",
   "metadata": {},
   "source": [
    "# Image CROPPING"
   ]
  },
  {
   "cell_type": "raw",
   "id": "0531e5ce-60a8-4256-8047-7201bf50ac69",
   "metadata": {},
   "source": [
    "Image has considered in 2 point top-left is (x1,y1) bottom-right(x2,y2)\n",
    "img[y1:y2 , x1:x2] \n",
    "y1 < y2 & x1 < x2\n",
    "y1 cuts TOP , x1 cuts LEFT\n",
    "y2 cuts BOTTOM , x2 cuts RIGHT"
   ]
  },
  {
   "cell_type": "code",
   "execution_count": 4,
   "id": "249f4666-680d-4303-a5af-e6d9dead5427",
   "metadata": {},
   "outputs": [],
   "source": [
    "import cv2\n",
    "\n",
    "img = cv2.imread('../images/smily_women.jpg')\n",
    "img = cv2.resize(img,(500,400))\n",
    "\n",
    "#HERE heigth(y) =400, width(x)=500 \n",
    "crop = img[185:230,200:290]\n",
    "cv2.imshow('CROPPED_IMAGE',crop)\n",
    "cv2.waitKey(0)\n",
    "cv2.destroyAllWindows()"
   ]
  },
  {
   "cell_type": "markdown",
   "id": "ce1627fa-963d-408b-bca2-baa6068b3270",
   "metadata": {},
   "source": [
    "# IMAGE FLIP"
   ]
  },
  {
   "cell_type": "code",
   "execution_count": 8,
   "id": "97c84c16-2bf2-45df-8254-90326b5cdf0a",
   "metadata": {},
   "outputs": [],
   "source": [
    "import cv2\n",
    "import numpy as np\n",
    "\n",
    "img = cv2.imread('../images/dog.jpg')\n",
    "img = cv2.resize(img,(300,300))\n",
    "#Flip the image vertically (along the x-axis)\n",
    "flip = cv2.flip(img,0)\n",
    "flip_text = cv2.putText(flip,'flipped_x-axis',(20,40),cv2.FONT_HERSHEY_SIMPLEX,1,cv2.LINE_8)\n",
    "\n",
    "#Flip the image horizontally (along the y-axis)\n",
    "flip1 = cv2.flip(img,1)\n",
    "flip1_text = cv2.putText(flip1,'flipped_Y-axis',(40,60),cv2.FONT_HERSHEY_SIMPLEX,1,cv2.LINE_8)\n",
    "\n",
    "#Flip the image both vertically and horizontally\n",
    "flip2 = cv2.flip(img,-1)\n",
    "flip2_text = cv2.putText(flip2,'flipped_x-Y',(60,80),cv2.FONT_HERSHEY_SIMPLEX,1,cv2.LINE_8)\n",
    "\n",
    "h = np.hstack((img,flip,flip1,flip2))\n",
    "cv2.imshow('FLIP',h)\n",
    "cv2.waitKey(0)\n",
    "cv2.destroyAllWindows()"
   ]
  },
  {
   "cell_type": "markdown",
   "id": "475d3fcc-9b72-4c74-a22e-390cf0a7681c",
   "metadata": {},
   "source": [
    "# IMAGE ROTATE"
   ]
  },
  {
   "cell_type": "code",
   "execution_count": 9,
   "id": "b36a08c4-3192-4162-b1ac-379d59bb7067",
   "metadata": {},
   "outputs": [],
   "source": [
    "import cv2\n",
    "import numpy as np\n",
    "\n",
    "img = cv2.imread('../images/car.jpg')\n",
    "img = cv2.resize(img,(300,300))\n",
    "\n",
    "img1 = cv2.rotate(img,cv2.ROTATE_180)\n",
    "img2 = cv2.rotate(img,cv2.ROTATE_90_CLOCKWISE)\n",
    "img3 = cv2.rotate(img,cv2.ROTATE_90_COUNTERCLOCKWISE)\n",
    "\n",
    "h = np.hstack((img,img1,img2,img3))\n",
    "cv2.imshow('ROTATE',h)\n",
    "cv2.waitKey(0)\n",
    "cv2.destroyAllWindows()"
   ]
  },
  {
   "cell_type": "markdown",
   "id": "4b3848ad-92bb-4011-8a83-413d8172c21f",
   "metadata": {},
   "source": [
    "# IMAGE TRANSPOSE"
   ]
  },
  {
   "cell_type": "code",
   "execution_count": 10,
   "id": "6c3566db-ea47-4539-b257-ea89a83c4da1",
   "metadata": {},
   "outputs": [],
   "source": [
    "import cv2\n",
    "import numpy as np\n",
    "\n",
    "img = cv2.imread('../images/dog.jpg')\n",
    "img = cv2.resize(img,(300,300))\n",
    "\n",
    "# FLIP IMAGE along Y axis and rotate 90 deg ANTICLOCKWISE\n",
    "trans = cv2.transpose(img)\n",
    "\n",
    "h = np.hstack((img,trans))\n",
    "cv2.imshow('TRANSPOSE',h)\n",
    "cv2.waitKey(0)\n",
    "cv2.destroyAllWindows()"
   ]
  },
  {
   "cell_type": "markdown",
   "id": "79060199-2d94-4a00-9c3e-93af57ac82bb",
   "metadata": {},
   "source": [
    "# Image rotate with function"
   ]
  },
  {
   "cell_type": "code",
   "execution_count": 11,
   "id": "4d905b94-c6e8-4bdd-beeb-f594e5075955",
   "metadata": {},
   "outputs": [
    {
     "name": "stdout",
     "output_type": "stream",
     "text": [
      "(400, 500, 3)\n"
     ]
    }
   ],
   "source": [
    "import cv2\n",
    "birds = cv2.imread('../images/birds.jpg')\n",
    "birds_img = cv2.resize(birds, (500,400)) #we gave (w,h)\n",
    "print(birds_img.shape)# sys returns (h,w)\n",
    "\n",
    "#To get center => divide by 2 width and heigth\n",
    "c = (birds_img.shape[0]//2,birds_img.shape[1]//2)\n",
    "\n",
    "#rotational matrix function\n",
    "#center , \n",
    "#angle +ve=> anticlockwise, -ve=>clockwise\n",
    "#scale => 1 is no scaling\n",
    "rotate_matrix = cv2.getRotationMatrix2D(center = c , angle = 60, scale=1.0)\n",
    "\n",
    "# Wrapper to make changeand create new image\n",
    "rotated_img = cv2.warpAffine(birds_img, rotate_matrix, (birds_img.shape[1], birds_img.shape[0]))\n",
    "\n",
    "h_stack = np.hstack((birds_img, rotated_img))\n",
    "\n",
    "cv2.imshow('birds',h_stack)\n",
    "cv2.waitKey(0)\n",
    "cv2.destroyAllWindows()"
   ]
  },
  {
   "cell_type": "code",
   "execution_count": null,
   "id": "b00642e6-b73c-44db-9019-15470687ff95",
   "metadata": {},
   "outputs": [],
   "source": []
  }
 ],
 "metadata": {
  "kernelspec": {
   "display_name": "Python 3 (ipykernel)",
   "language": "python",
   "name": "python3"
  },
  "language_info": {
   "codemirror_mode": {
    "name": "ipython",
    "version": 3
   },
   "file_extension": ".py",
   "mimetype": "text/x-python",
   "name": "python",
   "nbconvert_exporter": "python",
   "pygments_lexer": "ipython3",
   "version": "3.9.21"
  },
  "widgets": {
   "application/vnd.jupyter.widget-state+json": {
    "state": {},
    "version_major": 2,
    "version_minor": 0
   }
  }
 },
 "nbformat": 4,
 "nbformat_minor": 5
}
