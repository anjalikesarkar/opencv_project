{
 "cells": [
  {
   "cell_type": "markdown",
   "id": "f917d123-6b3b-49de-bfdd-9cab5dd9ce6c",
   "metadata": {},
   "source": [
    "# Image bg removal with grabcut"
   ]
  },
  {
   "cell_type": "raw",
   "id": "e2e7bdf1-2dc0-40ad-9485-775432f86c29",
   "metadata": {},
   "source": [
    "#i) We need 3 masks! \n",
    "#1) Full image mask: 2D array mask with zeros same number as img shape excluding color channel values ranges 0-255\n",
    "#2)bg mask: 2D array with zeros and multiply by 255 again 0. 1 row 65 coloumns and  64-bit floating-point number\n",
    "#3)foreground mask: sameas bg mask\n",
    "#ii) rectangle corrdinates(x1,y1,x2,y2) thr paint here, [77,221,833,753]\n",
    "# iii) Apply all mask with grabCut\n",
    "# iv) After the cv2.grabCut() function is applied, mask1 typically contains four possible values that represent different categories:\n",
    "# 0 = bg,1=fg,2=prob bg pixel,3= prob fg pixel\n",
    "# These values are not in a binary form yet, and we need to refine them into a final, simpler mask with just foreground (1) and background (0).\n",
    "#After these operations, mask1 will contain only the values 0 (background) and 1 (foreground).\n",
    "#v) To make a mask1 binary 0,1,2,3=>0,1 mask1 where 2,0 apply 0 and rest 1,3 apply 1 with ranges 0-255\n",
    "#vi) Apply mask2 on img with heigth,width,newaxis=1 if image is color it become w,h,3"
   ]
  },
  {
   "cell_type": "code",
   "execution_count": 1,
   "id": "f40adf36-2219-4ae8-bcb8-6fe309ffe661",
   "metadata": {},
   "outputs": [
    {
     "ename": "AttributeError",
     "evalue": "'NoneType' object has no attribute 'shape'",
     "output_type": "error",
     "traceback": [
      "\u001b[1;31m---------------------------------------------------------------------------\u001b[0m",
      "\u001b[1;31mAttributeError\u001b[0m                            Traceback (most recent call last)",
      "Cell \u001b[1;32mIn[1], line 5\u001b[0m\n\u001b[0;32m      2\u001b[0m \u001b[38;5;28;01mimport\u001b[39;00m \u001b[38;5;21;01mnumpy\u001b[39;00m \u001b[38;5;28;01mas\u001b[39;00m \u001b[38;5;21;01mnp\u001b[39;00m\n\u001b[0;32m      4\u001b[0m img \u001b[38;5;241m=\u001b[39m cv2\u001b[38;5;241m.\u001b[39mimread(\u001b[38;5;124m'\u001b[39m\u001b[38;5;124mimages/vintage.jpg\u001b[39m\u001b[38;5;124m'\u001b[39m)\n\u001b[1;32m----> 5\u001b[0m mask_1 \u001b[38;5;241m=\u001b[39m np\u001b[38;5;241m.\u001b[39mzeros(\u001b[43mimg\u001b[49m\u001b[38;5;241;43m.\u001b[39;49m\u001b[43mshape\u001b[49m[:\u001b[38;5;241m2\u001b[39m],np\u001b[38;5;241m.\u001b[39muint8)\n\u001b[0;32m      6\u001b[0m bg_mask \u001b[38;5;241m=\u001b[39m np\u001b[38;5;241m.\u001b[39mzeros((\u001b[38;5;241m1\u001b[39m,\u001b[38;5;241m65\u001b[39m),np\u001b[38;5;241m.\u001b[39mfloat64)\u001b[38;5;241m*\u001b[39m\u001b[38;5;241m255\u001b[39m\n\u001b[0;32m      7\u001b[0m fg_mask \u001b[38;5;241m=\u001b[39m np\u001b[38;5;241m.\u001b[39mzeros((\u001b[38;5;241m1\u001b[39m,\u001b[38;5;241m65\u001b[39m),np\u001b[38;5;241m.\u001b[39mfloat64)\u001b[38;5;241m*\u001b[39m\u001b[38;5;241m255\u001b[39m\n",
      "\u001b[1;31mAttributeError\u001b[0m: 'NoneType' object has no attribute 'shape'"
     ]
    }
   ],
   "source": [
    "import cv2\n",
    "import numpy as np\n",
    "\n",
    "img = cv2.imread('images/vintage.jpg')\n",
    "mask_1 = np.zeros(img.shape[:2],np.uint8)\n",
    "bg_mask = np.zeros((1,65),np.float64)*255\n",
    "fg_mask = np.zeros((1,65),np.float64)*255\n",
    "rect = [77,221,833,753]\n",
    "\n",
    "cv2.grabCut(img = img,\n",
    "            mask = mask_1,\n",
    "            rect = rect, \n",
    "            bgdModel = bg_mask,\n",
    "            fgdModel = fg_mask,\n",
    "            iterCount = 10,\n",
    "           mode = cv2.GC_INIT_WITH_RECT)\n",
    "\n",
    "mask2 = np.where((mask_1 == 2) | (mask_1 == 0),0,1).astype(np.uint8)\n",
    "img = img*mask2[:, :, np.newaxis]\n",
    "\n",
    "cv2.imshow('vintage', img)\n",
    "cv2.waitKey(0)\n",
    "cv2.destroyAllWindows()"
   ]
  },
  {
   "cell_type": "code",
   "execution_count": null,
   "id": "471ef53d-2f7d-4263-a16b-8cf0360a773a",
   "metadata": {},
   "outputs": [],
   "source": []
  }
 ],
 "metadata": {
  "kernelspec": {
   "display_name": "Python 3 (ipykernel)",
   "language": "python",
   "name": "python3"
  },
  "language_info": {
   "codemirror_mode": {
    "name": "ipython",
    "version": 3
   },
   "file_extension": ".py",
   "mimetype": "text/x-python",
   "name": "python",
   "nbconvert_exporter": "python",
   "pygments_lexer": "ipython3",
   "version": "3.9.21"
  },
  "widgets": {
   "application/vnd.jupyter.widget-state+json": {
    "state": {},
    "version_major": 2,
    "version_minor": 0
   }
  }
 },
 "nbformat": 4,
 "nbformat_minor": 5
}
