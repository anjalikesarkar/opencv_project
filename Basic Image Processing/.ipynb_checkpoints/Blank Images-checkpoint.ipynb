{
 "cells": [
  {
   "cell_type": "raw",
   "id": "671e3f1e-a339-4191-930f-50c4621aa1f2",
   "metadata": {},
   "source": [
    "Blank images (completely white or black images) for;\n",
    "- Masking and Region of Interest (ROI),\n",
    "- Background Removal(isolate the area being processed),\n",
    "- Image Creation and Data Augmentation(synthetic data can be created using blank images),\n",
    "- Template Matching(need to initialize a blank image to compare new images or match features),\n",
    "- Visualizing Results(visualize your results by overlaying detected features or outlines),\n",
    "- Image Reconstruction(creating new images from multiple sources)\n",
    "-  Noise Addition( for testing models)"
   ]
  },
  {
   "cell_type": "code",
   "execution_count": 2,
   "id": "8cb2553d-03d3-481c-a3d4-d3009ace88ce",
   "metadata": {},
   "outputs": [],
   "source": [
    "import cv2\n",
    "import numpy as np\n",
    "\n",
    "#create a new array with ONES same number as a image , multiply with 255 \n",
    "white_mask = np.ones((500,500,3),np.uint8)*255\n",
    "\n",
    "#create a new array with ZEROS same number as a image , multiply with 255 \n",
    "black_mask = np.zeros((500,500,3),np.uint8)*255\n",
    "\n",
    "h= np.hstack((white_mask,black_mask))\n",
    "cv2.imshow('BLANK',h)\n",
    "cv2.waitKey(0)\n",
    "cv2.destroyAllWindows()"
   ]
  },
  {
   "cell_type": "code",
   "execution_count": null,
   "id": "67823a75-dcd4-44a9-9769-790eac0f77ad",
   "metadata": {},
   "outputs": [],
   "source": []
  }
 ],
 "metadata": {
  "kernelspec": {
   "display_name": "Python 3 (ipykernel)",
   "language": "python",
   "name": "python3"
  },
  "language_info": {
   "codemirror_mode": {
    "name": "ipython",
    "version": 3
   },
   "file_extension": ".py",
   "mimetype": "text/x-python",
   "name": "python",
   "nbconvert_exporter": "python",
   "pygments_lexer": "ipython3",
   "version": "3.9.21"
  },
  "widgets": {
   "application/vnd.jupyter.widget-state+json": {
    "state": {},
    "version_major": 2,
    "version_minor": 0
   }
  }
 },
 "nbformat": 4,
 "nbformat_minor": 5
}
