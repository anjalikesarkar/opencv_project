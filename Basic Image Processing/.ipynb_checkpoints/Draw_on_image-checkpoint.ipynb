{
 "cells": [
  {
   "cell_type": "markdown",
   "id": "a65282e8-b411-4220-9c12-f8dc568e6779",
   "metadata": {},
   "source": [
    "# TEXT ON IMAGE"
   ]
  },
  {
   "cell_type": "code",
   "execution_count": 1,
   "id": "29f288ff-a4fc-4bb6-8ff2-4faad7003bd5",
   "metadata": {},
   "outputs": [],
   "source": [
    "import cv2\n",
    "dog_img = cv2.imread('../images/dog.jpg')\n",
    "dog_img = cv2.resize(dog_img, (500,500))\n",
    "dog_img_text = cv2.putText( img = dog_img, #image \n",
    "                              text = 'GERMAN',#text\n",
    "                              org = (40,60),  #X,Y co-ordinate\n",
    "                              fontFace = cv2.FONT_HERSHEY_PLAIN, #font,\n",
    "                              fontScale = 3, #font thickness\n",
    "                              color = (100,60,180), #BGR\n",
    "                              thickness = 3, #line thickness\n",
    "                              lineType = cv2.LINE_4, #linetype\n",
    "                              bottomLeftOrigin = False #mirror image of text\n",
    ")\n",
    "cv2.imshow('Dog_Image_Text', dog_img_text)\n",
    "cv2.waitKey(0)\n",
    "cv2.destroyAllWindows()"
   ]
  },
  {
   "cell_type": "markdown",
   "id": "01fe8368-acb6-450b-8ed5-c16f16142a91",
   "metadata": {},
   "source": [
    "# DRAW RECTANGLE ON IMAGE"
   ]
  },
  {
   "cell_type": "code",
   "execution_count": 2,
   "id": "e40761ad-856c-4b39-a7b8-17338faa540f",
   "metadata": {},
   "outputs": [],
   "source": [
    "import cv2\n",
    "happy_image = cv2.imread('../images/happy.jpg')\n",
    "happy_img = cv2.resize(happy_image, (500,500))\n",
    "happy_img_rect = cv2.rectangle(img = happy_img, #Image\n",
    "                               pt1= (212,100), #(X,Y on top)\n",
    "                               pt2= (262,160),#(X,Y on bottom)\n",
    "                               color= (0,255,0),#color of box\n",
    "                               thickness=3, # border thickness\n",
    "                               lineType=4) #linetype\n",
    "cv2.imshow('Happy_Image', happy_img_rect)\n",
    "cv2.waitKey(0)\n",
    "cv2.destroyAllWindows()"
   ]
  },
  {
   "cell_type": "markdown",
   "id": "aa83630e-daf3-45c9-ad98-619272693104",
   "metadata": {},
   "source": [
    "# DRAW ELLIPSE ON IMAGE"
   ]
  },
  {
   "cell_type": "code",
   "execution_count": 3,
   "id": "fd69d3fd-b053-4d3d-8f52-e51f4556d84f",
   "metadata": {},
   "outputs": [],
   "source": [
    "import cv2\n",
    "smily_women = cv2.imread('../images/smily_women.jpg')\n",
    "smily_women = cv2.resize(smily_women, (400,400))\n",
    "\n",
    "smily_women_eclipse = cv2.ellipse(img = smily_women, \n",
    "                                  center=(200,160) ,\n",
    "                                  axes=(60,110), \n",
    "                                  angle = 180,\n",
    "                                  startAngle= 0, \n",
    "                                  endAngle=360, \n",
    "                                  color = (0,255,0), \n",
    "                                  thickness=3, \n",
    "                                  lineType=4)\n",
    "cv2.imshow('Smily_Image', smily_women_eclipse)\n",
    "cv2.waitKey(0)\n",
    "cv2.destroyAllWindows()"
   ]
  },
  {
   "cell_type": "markdown",
   "id": "7f13bd2f-5e4f-4a19-9eb3-fc8ec34529bc",
   "metadata": {},
   "source": [
    "# DRAW CIRCLE ON IMAGE"
   ]
  },
  {
   "cell_type": "code",
   "execution_count": 4,
   "id": "bc9bf082-0690-490f-80e0-603836e144c1",
   "metadata": {},
   "outputs": [],
   "source": [
    "baby = cv2.imread('../images/baby.jpg')\n",
    "baby_img = cv2.resize(baby, (400,400))\n",
    "\n",
    "baby_circle = cv2.circle(img = baby_img, \n",
    "                         center = (190,160), \n",
    "                         radius = 75, \n",
    "                         color = (0,255,0), \n",
    "                         thickness = 3, \n",
    "                         lineType=16)\n",
    "cv2.imshow('Baby_Image', baby_circle)\n",
    "cv2.waitKey(0)\n",
    "cv2.destroyAllWindows()"
   ]
  },
  {
   "cell_type": "code",
   "execution_count": null,
   "id": "76d1d3a4-0df3-4eca-97e4-7007a8015c48",
   "metadata": {},
   "outputs": [],
   "source": []
  }
 ],
 "metadata": {
  "kernelspec": {
   "display_name": "Python 3 (ipykernel)",
   "language": "python",
   "name": "python3"
  },
  "language_info": {
   "codemirror_mode": {
    "name": "ipython",
    "version": 3
   },
   "file_extension": ".py",
   "mimetype": "text/x-python",
   "name": "python",
   "nbconvert_exporter": "python",
   "pygments_lexer": "ipython3",
   "version": "3.9.21"
  },
  "widgets": {
   "application/vnd.jupyter.widget-state+json": {
    "state": {},
    "version_major": 2,
    "version_minor": 0
   }
  }
 },
 "nbformat": 4,
 "nbformat_minor": 5
}
